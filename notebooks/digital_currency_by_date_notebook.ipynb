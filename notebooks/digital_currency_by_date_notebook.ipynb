{
 "cells": [
  {
   "cell_type": "markdown",
   "metadata": {},
   "source": [
    "# Data loading notebook"
   ]
  },
  {
   "cell_type": "markdown",
   "metadata": {},
   "source": [
    "## Import packages"
   ]
  },
  {
   "cell_type": "code",
   "execution_count": 1,
   "metadata": {},
   "outputs": [],
   "source": [
    "import pandas as pd\n",
    "import requests\n",
    "import io\n",
    "import time\n",
    "import matplotlib.pyplot as plt"
   ]
  },
  {
   "cell_type": "markdown",
   "metadata": {},
   "source": [
    "## Initialization"
   ]
  },
  {
   "cell_type": "code",
   "execution_count": 2,
   "metadata": {},
   "outputs": [],
   "source": [
    "API_ENDPOINT = \"https://www.alphavantage.co/query\"\n",
    "API_FUNCTION = \"DIGITAL_CURRENCY_DAILY\"\n",
    "API_DATATYPE = \"csv\"\n",
    "\n",
    "API_KEY = \"OWGOAH1MLEK1J3IA\" # Reset every 500 requests from [here](https://www.alphavantage.co/support/#api-key)\n",
    "plt.close('all')"
   ]
  },
  {
   "cell_type": "markdown",
   "metadata": {},
   "source": [
    "## Extracting and transforming data"
   ]
  },
  {
   "cell_type": "markdown",
   "metadata": {},
   "source": [
    "#### Retrieve data from API"
   ]
  },
  {
   "cell_type": "code",
   "execution_count": 3,
   "metadata": {},
   "outputs": [
    {
     "name": "stdout",
     "output_type": "stream",
     "text": [
      "---------- Elapsed time: 2.903790235519409\n"
     ]
    },
    {
     "data": {
      "text/html": [
       "<div>\n",
       "<style scoped>\n",
       "    .dataframe tbody tr th:only-of-type {\n",
       "        vertical-align: middle;\n",
       "    }\n",
       "\n",
       "    .dataframe tbody tr th {\n",
       "        vertical-align: top;\n",
       "    }\n",
       "\n",
       "    .dataframe thead th {\n",
       "        text-align: right;\n",
       "    }\n",
       "</style>\n",
       "<table border=\"1\" class=\"dataframe\">\n",
       "  <thead>\n",
       "    <tr style=\"text-align: right;\">\n",
       "      <th></th>\n",
       "      <th>open (USD)</th>\n",
       "      <th>close (USD)</th>\n",
       "    </tr>\n",
       "    <tr>\n",
       "      <th>timestamp</th>\n",
       "      <th></th>\n",
       "      <th></th>\n",
       "    </tr>\n",
       "  </thead>\n",
       "  <tbody>\n",
       "    <tr>\n",
       "      <th>2019-02-02</th>\n",
       "      <td>3478.802042</td>\n",
       "      <td>3506.522302</td>\n",
       "    </tr>\n",
       "    <tr>\n",
       "      <th>2019-02-01</th>\n",
       "      <td>3451.511325</td>\n",
       "      <td>3479.094114</td>\n",
       "    </tr>\n",
       "    <tr>\n",
       "      <th>2019-01-31</th>\n",
       "      <td>3478.216787</td>\n",
       "      <td>3451.319877</td>\n",
       "    </tr>\n",
       "    <tr>\n",
       "      <th>2019-01-30</th>\n",
       "      <td>3440.585938</td>\n",
       "      <td>3479.301800</td>\n",
       "    </tr>\n",
       "    <tr>\n",
       "      <th>2019-01-29</th>\n",
       "      <td>3462.812591</td>\n",
       "      <td>3440.006014</td>\n",
       "    </tr>\n",
       "    <tr>\n",
       "      <th>2019-01-28</th>\n",
       "      <td>3578.247141</td>\n",
       "      <td>3463.288193</td>\n",
       "    </tr>\n",
       "    <tr>\n",
       "      <th>2019-01-27</th>\n",
       "      <td>3596.292163</td>\n",
       "      <td>3581.700832</td>\n",
       "    </tr>\n",
       "    <tr>\n",
       "      <th>2019-01-26</th>\n",
       "      <td>3599.831493</td>\n",
       "      <td>3597.678219</td>\n",
       "    </tr>\n",
       "    <tr>\n",
       "      <th>2019-01-25</th>\n",
       "      <td>3605.837905</td>\n",
       "      <td>3598.336441</td>\n",
       "    </tr>\n",
       "    <tr>\n",
       "      <th>2019-01-24</th>\n",
       "      <td>3579.827909</td>\n",
       "      <td>3602.366689</td>\n",
       "    </tr>\n",
       "    <tr>\n",
       "      <th>2019-01-23</th>\n",
       "      <td>3602.761051</td>\n",
       "      <td>3579.774763</td>\n",
       "    </tr>\n",
       "    <tr>\n",
       "      <th>2019-01-22</th>\n",
       "      <td>3569.362604</td>\n",
       "      <td>3603.050242</td>\n",
       "    </tr>\n",
       "    <tr>\n",
       "      <th>2019-01-21</th>\n",
       "      <td>3601.218507</td>\n",
       "      <td>3571.111481</td>\n",
       "    </tr>\n",
       "    <tr>\n",
       "      <th>2019-01-20</th>\n",
       "      <td>3720.546768</td>\n",
       "      <td>3602.768672</td>\n",
       "    </tr>\n",
       "    <tr>\n",
       "      <th>2019-01-19</th>\n",
       "      <td>3648.611891</td>\n",
       "      <td>3727.524310</td>\n",
       "    </tr>\n",
       "    <tr>\n",
       "      <th>2019-01-18</th>\n",
       "      <td>3674.685035</td>\n",
       "      <td>3648.950230</td>\n",
       "    </tr>\n",
       "    <tr>\n",
       "      <th>2019-01-17</th>\n",
       "      <td>3647.691640</td>\n",
       "      <td>3673.159519</td>\n",
       "    </tr>\n",
       "    <tr>\n",
       "      <th>2019-01-16</th>\n",
       "      <td>3630.424040</td>\n",
       "      <td>3650.906502</td>\n",
       "    </tr>\n",
       "    <tr>\n",
       "      <th>2019-01-15</th>\n",
       "      <td>3698.911856</td>\n",
       "      <td>3630.259840</td>\n",
       "    </tr>\n",
       "    <tr>\n",
       "      <th>2019-01-14</th>\n",
       "      <td>3545.436949</td>\n",
       "      <td>3699.570096</td>\n",
       "    </tr>\n",
       "    <tr>\n",
       "      <th>2019-01-13</th>\n",
       "      <td>3651.405366</td>\n",
       "      <td>3536.792357</td>\n",
       "    </tr>\n",
       "    <tr>\n",
       "      <th>2019-01-12</th>\n",
       "      <td>3669.554255</td>\n",
       "      <td>3653.021087</td>\n",
       "    </tr>\n",
       "    <tr>\n",
       "      <th>2019-01-11</th>\n",
       "      <td>3661.709034</td>\n",
       "      <td>3665.166478</td>\n",
       "    </tr>\n",
       "    <tr>\n",
       "      <th>2019-01-10</th>\n",
       "      <td>4037.296936</td>\n",
       "      <td>3662.939218</td>\n",
       "    </tr>\n",
       "    <tr>\n",
       "      <th>2019-01-09</th>\n",
       "      <td>4030.214201</td>\n",
       "      <td>4037.576810</td>\n",
       "    </tr>\n",
       "    <tr>\n",
       "      <th>2019-01-08</th>\n",
       "      <td>4031.737345</td>\n",
       "      <td>4026.213860</td>\n",
       "    </tr>\n",
       "    <tr>\n",
       "      <th>2019-01-07</th>\n",
       "      <td>4078.971147</td>\n",
       "      <td>4028.609217</td>\n",
       "    </tr>\n",
       "    <tr>\n",
       "      <th>2019-01-06</th>\n",
       "      <td>3847.223466</td>\n",
       "      <td>4081.776280</td>\n",
       "    </tr>\n",
       "    <tr>\n",
       "      <th>2019-01-05</th>\n",
       "      <td>3855.518359</td>\n",
       "      <td>3848.550752</td>\n",
       "    </tr>\n",
       "    <tr>\n",
       "      <th>2019-01-04</th>\n",
       "      <td>3849.674837</td>\n",
       "      <td>3859.725243</td>\n",
       "    </tr>\n",
       "  </tbody>\n",
       "</table>\n",
       "</div>"
      ],
      "text/plain": [
       "             open (USD)  close (USD)\n",
       "timestamp                           \n",
       "2019-02-02  3478.802042  3506.522302\n",
       "2019-02-01  3451.511325  3479.094114\n",
       "2019-01-31  3478.216787  3451.319877\n",
       "2019-01-30  3440.585938  3479.301800\n",
       "2019-01-29  3462.812591  3440.006014\n",
       "2019-01-28  3578.247141  3463.288193\n",
       "2019-01-27  3596.292163  3581.700832\n",
       "2019-01-26  3599.831493  3597.678219\n",
       "2019-01-25  3605.837905  3598.336441\n",
       "2019-01-24  3579.827909  3602.366689\n",
       "2019-01-23  3602.761051  3579.774763\n",
       "2019-01-22  3569.362604  3603.050242\n",
       "2019-01-21  3601.218507  3571.111481\n",
       "2019-01-20  3720.546768  3602.768672\n",
       "2019-01-19  3648.611891  3727.524310\n",
       "2019-01-18  3674.685035  3648.950230\n",
       "2019-01-17  3647.691640  3673.159519\n",
       "2019-01-16  3630.424040  3650.906502\n",
       "2019-01-15  3698.911856  3630.259840\n",
       "2019-01-14  3545.436949  3699.570096\n",
       "2019-01-13  3651.405366  3536.792357\n",
       "2019-01-12  3669.554255  3653.021087\n",
       "2019-01-11  3661.709034  3665.166478\n",
       "2019-01-10  4037.296936  3662.939218\n",
       "2019-01-09  4030.214201  4037.576810\n",
       "2019-01-08  4031.737345  4026.213860\n",
       "2019-01-07  4078.971147  4028.609217\n",
       "2019-01-06  3847.223466  4081.776280\n",
       "2019-01-05  3855.518359  3848.550752\n",
       "2019-01-04  3849.674837  3859.725243"
      ]
     },
     "execution_count": 3,
     "metadata": {},
     "output_type": "execute_result"
    }
   ],
   "source": [
    "params = {'function': API_FUNCTION, 'market': 'USD', 'symbol': 'BTC', 'apikey': API_KEY, 'datatype': API_DATATYPE}\n",
    "start = time.time()\n",
    "list_ = []\n",
    "\n",
    "url_data = requests.get(API_ENDPOINT, params=params).content\n",
    "\n",
    "df = pd.read_csv(io.StringIO(url_data.decode('utf-8')),\n",
    "        header=0,\n",
    "        index_col=['timestamp'], \n",
    "        usecols=['timestamp', 'open (USD)', 'close (USD)'],\n",
    "        parse_dates=['timestamp'],\n",
    "        nrows=30)\n",
    "                     \n",
    "# time.sleep(12) # 5 API requests per minute at most\n",
    "end = time.time()\n",
    "elapsed = end - start\n",
    "print(\"---------- Elapsed time: {0}\".format(elapsed))\n",
    "\n",
    "df"
   ]
  },
  {
   "cell_type": "markdown",
   "metadata": {},
   "source": [
    "#### Export plot"
   ]
  },
  {
   "cell_type": "code",
   "execution_count": 4,
   "metadata": {},
   "outputs": [
    {
     "data": {
      "image/png": "[encoded data removed]",
      "text/plain": [
       "<Figure size 432x288 with 1 Axes>"
      ]
     },
     "metadata": {},
     "output_type": "display_data"
    }
   ],
   "source": [
    "fig = df.plot(title=\"Open and close prices of BTC in last 30 days\", grid=True).get_figure()\n",
    "\n",
    "fig.savefig('figure.pdf')"
   ]
  },
  {
   "cell_type": "markdown",
   "metadata": {},
   "source": [
    "#### Average difference"
   ]
  },
  {
   "cell_type": "code",
   "execution_count": 5,
   "metadata": {},
   "outputs": [
    {
     "data": {
      "text/plain": [
       "timestamp\n",
       "2019-02-02     27.720260\n",
       "2019-02-01     27.582790\n",
       "2019-01-31     26.896910\n",
       "2019-01-30     38.715862\n",
       "2019-01-29     22.806577\n",
       "2019-01-28    114.958948\n",
       "2019-01-27     14.591330\n",
       "2019-01-26      2.153274\n",
       "2019-01-25      7.501464\n",
       "2019-01-24     22.538781\n",
       "2019-01-23     22.986288\n",
       "2019-01-22     33.687637\n",
       "2019-01-21     30.107027\n",
       "2019-01-20    117.778096\n",
       "2019-01-19     78.912420\n",
       "2019-01-18     25.734804\n",
       "2019-01-17     25.467879\n",
       "2019-01-16     20.482463\n",
       "2019-01-15     68.652017\n",
       "2019-01-14    154.133147\n",
       "2019-01-13    114.613009\n",
       "2019-01-12     16.533168\n",
       "2019-01-11      3.457444\n",
       "2019-01-10    374.357718\n",
       "2019-01-09      7.362609\n",
       "2019-01-08      5.523485\n",
       "2019-01-07     50.361930\n",
       "2019-01-06    234.552814\n",
       "2019-01-05      6.967607\n",
       "2019-01-04     10.050406\n",
       "dtype: float64"
      ]
     },
     "execution_count": 5,
     "metadata": {},
     "output_type": "execute_result"
    }
   ],
   "source": [
    "abs(df['open (USD)'] - df['close (USD)'])"
   ]
  },
  {
   "cell_type": "code",
   "execution_count": 6,
   "metadata": {},
   "outputs": [
    {
     "data": {
      "text/plain": [
       "56.906272124666735"
      ]
     },
     "execution_count": 6,
     "metadata": {},
     "output_type": "execute_result"
    }
   ],
   "source": [
    "sum(abs(df['open (USD)'] - df['close (USD)']))/30"
   ]
  }
 ],
 "metadata": {
  "kernelspec": {
   "display_name": "Python 3",
   "language": "python",
   "name": "python3"
  },
  "language_info": {
   "codemirror_mode": {
    "name": "ipython",
    "version": 3
   },
   "file_extension": ".py",
   "mimetype": "text/x-python",
   "name": "python",
   "nbconvert_exporter": "python",
   "pygments_lexer": "ipython3",
   "version": "3.6.7"
  }
 },
 "nbformat": 4,
 "nbformat_minor": 2
}
